{
 "cells": [
  {
   "cell_type": "markdown",
   "metadata": {},
   "source": [
    "# Límites con una diferencia de cubos\n",
    "\n",
    "En este ejercicio, trabajaremos con la función:\n",
    "$$ f(x) = \\frac{x^3 - 8}{x - 2} $$\n",
    "\n",
    "Esta función también presenta una **indeterminación** en $ x = 2 $, debido a que sustituir $ x = 2 $ en el denominador resulta en una división por cero, lo cual hace que la función no esté definida en ese punto específico. Al intentar calcular $ f(2) $, obtenemos una expresión de la forma $ \\frac{0}{0} $, que es una indeterminación.\n",
    "\n",
    "Queremos calcular el **límite** de $ f(x) $ cuando $ x \\to 2 $, y comprender cómo podemos **simplificar la expresión** para resolver esta indeterminación.\n",
    "\n",
    "Para ello, utilizaremos una técnica de factorización, aplicando la propiedad de **diferencia de cubos** en el numerador para ver si podemos eliminar términos y obtener una expresión simplificada que permita evaluar el límite sin problemas."
   ]
  },
  {
   "cell_type": "markdown",
   "metadata": {},
   "source": [
    "### Paso 1: Definir la función original"
   ]
  },
  {
   "cell_type": "code",
   "execution_count": 3,
   "metadata": {},
   "outputs": [
    {
     "data": {
      "text/latex": [
       "$\\displaystyle \\frac{x^{3} - 8}{x - 2}$"
      ],
      "text/plain": [
       "(x**3 - 8)/(x - 2)"
      ]
     },
     "execution_count": 3,
     "metadata": {},
     "output_type": "execute_result"
    }
   ],
   "source": [
    "import sympy as sp\n",
    "\n",
    "# Definir variable simbólica\n",
    "x = sp.symbols('x')\n",
    "\n",
    "# Definir la función\n",
    "f_x = (x**3 - 8) / (x - 2)\n",
    "f_x"
   ]
  },
  {
   "cell_type": "markdown",
   "metadata": {},
   "source": [
    "### Paso 2: Verificar el problema en $x = 2$"
   ]
  },
  {
   "cell_type": "code",
   "execution_count": 5,
   "metadata": {},
   "outputs": [
    {
     "name": "stdout",
     "output_type": "stream",
     "text": [
      "Resultado: nan\n"
     ]
    }
   ],
   "source": [
    "# Intentar evaluar en x = 2\n",
    "resultado = f_x.subs(x, 2)\n",
    "print(\"Resultado:\", resultado)"
   ]
  },
  {
   "cell_type": "markdown",
   "metadata": {},
   "source": [
    "### Paso 3: Factorización de la función completa\n",
    "\n",
    "El numerador $x^3 - 8$ es una diferencia de cubos y se puede factorizar como:\n",
    "$$x^3 - 8 = (x - 2)(x^2 + 2x + 4)$$\n",
    "\n",
    "Así, la función completa se convierte en:\n",
    "$$f(x) = \\frac{(x - 2)(x^2 + 2x + 4)}{x - 2}$$"
   ]
  },
  {
   "cell_type": "code",
   "execution_count": 24,
   "metadata": {},
   "outputs": [
    {
     "data": {
      "text/latex": [
       "$\\displaystyle \\left(x - 2\\right) \\left(x^{2} + 2 x + 4\\right)$"
      ],
      "text/plain": [
       "(x - 2)*(x**2 + 2*x + 4)"
      ]
     },
     "execution_count": 24,
     "metadata": {},
     "output_type": "execute_result"
    }
   ],
   "source": [
    "# Definir el numerador y factorizarlo\n",
    "numerador = x**3 - 8\n",
    "factorizado = sp.factor(numerador)\n",
    "factorizado"
   ]
  },
  {
   "cell_type": "markdown",
   "metadata": {},
   "source": [
    "### Paso 4: Simplificación de la función\n",
    "\n",
    "Después de factorizar la función completa, podemos simplificarla al eliminar $x - 2$ en el numerador y denominador (siempre que $x \\neq 2$)."
   ]
  },
  {
   "cell_type": "code",
   "execution_count": 9,
   "metadata": {},
   "outputs": [
    {
     "data": {
      "text/latex": [
       "$\\displaystyle x^{2} + 2 x + 4$"
      ],
      "text/plain": [
       "x**2 + 2*x + 4"
      ]
     },
     "execution_count": 9,
     "metadata": {},
     "output_type": "execute_result"
    }
   ],
   "source": [
    "# Simplificar la función\n",
    "f_x = sp.simplify(f_x)\n",
    "f_x"
   ]
  },
  {
   "cell_type": "markdown",
   "metadata": {},
   "source": [
    "### Paso 5: Cálculo del límite\n",
    "\n",
    "Con la función simplificada, podemos calcular el límite cuando $x \\to 2$."
   ]
  },
  {
   "cell_type": "code",
   "execution_count": 11,
   "metadata": {},
   "outputs": [
    {
     "data": {
      "text/latex": [
       "$\\displaystyle 12$"
      ],
      "text/plain": [
       "12"
      ]
     },
     "execution_count": 11,
     "metadata": {},
     "output_type": "execute_result"
    }
   ],
   "source": [
    "# Calcular el límite\n",
    "limite = sp.limit(f_x, x, 2)\n",
    "limite"
   ]
  },
  {
   "cell_type": "markdown",
   "metadata": {},
   "source": [
    "### Resultado\n",
    "El límite de la función cuando $x \\to 2$ es igual a este valor calculado."
   ]
  },
  {
   "cell_type": "code",
   "execution_count": 13,
   "metadata": {},
   "outputs": [
    {
     "name": "stdout",
     "output_type": "stream",
     "text": [
      "El resultado del límite es: 12\n"
     ]
    }
   ],
   "source": [
    "# Mostrar el resultado final\n",
    "print(f\"El resultado del límite es: {limite}\")"
   ]
  }
 ],
 "metadata": {
  "kernelspec": {
   "display_name": "Python 3 (ipykernel)",
   "language": "python",
   "name": "python3"
  },
  "language_info": {
   "codemirror_mode": {
    "name": "ipython",
    "version": 3
   },
   "file_extension": ".py",
   "mimetype": "text/x-python",
   "name": "python",
   "nbconvert_exporter": "python",
   "pygments_lexer": "ipython3",
   "version": "3.12.7"
  }
 },
 "nbformat": 4,
 "nbformat_minor": 4
}
