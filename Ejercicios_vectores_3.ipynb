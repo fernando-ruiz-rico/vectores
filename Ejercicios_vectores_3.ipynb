{
 "cells": [
  {
   "cell_type": "markdown",
   "id": "842aff18-9fb0-48cf-a3e3-ac23bde6860a",
   "metadata": {},
   "source": [
    "# Similitud de Coseno\n",
    "\n",
    "## ¿Qué es la similitud de coseno?\n",
    "La **similitud de coseno** es una medida de la similitud entre dos vectores. Mide el coseno del ángulo entre los vectores y nos da un valor entre -1 y 1.\n",
    "\n",
    "- Si la similitud de coseno es 1, significa que los vectores son paralelos y apuntan en la **misma dirección** (muy similares).\n",
    "- Si la similitud de coseno es 0, significa que los vectores son **ortogonales** (no tienen ninguna similitud).\n",
    "- Si la similitud de coseno es -1, significa que los vectores son paralelos pero apuntan en **direcciones opuestas** (completamente opuestos).\n",
    "\n",
    "La fórmula para calcular la similitud de coseno entre dos vectores $ a $ y $ b $ es:\n",
    "\n",
    "$$\n",
    "\\cos(\\theta) = \\frac{a \\cdot b}{||a|| \\cdot ||b||}\n",
    "$$\n",
    "\n",
    "Donde:\n",
    "- $ a \\cdot b $ es el producto interno de los vectores $ a $ y $ b $.\n",
    "- $ ||a|| $ y $ ||b|| $ son las normas de los vectores $ a $ y $ b $, respectivamente.\n",
    "\n",
    "La similitud de coseno es muy útil en machine learning y procesamiento de texto para medir la similitud entre documentos o características."
   ]
  },
  {
   "cell_type": "markdown",
   "id": "e7c21f85-080b-4e78-b3fe-e0d69f01f8e7",
   "metadata": {},
   "source": [
    "### Ejemplo 1: Uso de la similitud del coseno en modelos de recomendación\n",
    "En aprendizaje automático, la similitud del coseno se utiliza para calcular de manera más precisa la similitud entre vectores. En este caso vamos a utilizarla para sistemas de recomendación. Si un vector representa los intereses de un usuario y otro vector representa las características de un producto, la similitud del coseno nos indica cuánto podría interesarle el producto al usuario con valores entre -1, 0, 1.\n",
    "\n",
    "Por ejemplo, si tenemos:\n",
    "\n",
    "- $ usuario = [1, 1, 3] $ (representando el interés del usuario en tres categorías, por ejemplo ropa, electrodomésticos, tecnología)\n",
    "- $ producto = [0, 2, 1] $ (representando la relación del producto con esas mismas categorías, por ejemplo, un lavavajillas que es electrodoméstico y tiene parte de tecnología)\n",
    "\n",
    "Calculamos la similitud del producto para determinar si el producto es adecuado para el usuario."
   ]
  },
  {
   "cell_type": "code",
   "execution_count": 12,
   "id": "3428faf8-1ff6-4057-bf5a-2f7606a1a9c3",
   "metadata": {},
   "outputs": [
    {
     "name": "stdout",
     "output_type": "stream",
     "text": [
      "La afinidad del usuario por el producto es: 0.674199862463242\n"
     ]
    }
   ],
   "source": [
    "import numpy as np\n",
    "usuario = np.array([1, 1, 3])\n",
    "producto = np.array([0, 2, 1])\n",
    "producto_escalar = np.dot(usuario, producto)\n",
    "norma_usuario = np.linalg.norm(usuario)\n",
    "norma_producto = np.linalg.norm(producto)\n",
    "recomendacion = producto_escalar / (norma_usuario * norma_producto)\n",
    "print(\"La afinidad del usuario por el producto es:\", recomendacion)"
   ]
  },
  {
   "cell_type": "code",
   "execution_count": null,
   "id": "6b72357e-2af1-482b-9e4a-fce0164d2fed",
   "metadata": {},
   "outputs": [],
   "source": []
  }
 ],
 "metadata": {
  "kernelspec": {
   "display_name": "Python 3 (ipykernel)",
   "language": "python",
   "name": "python3"
  },
  "language_info": {
   "codemirror_mode": {
    "name": "ipython",
    "version": 3
   },
   "file_extension": ".py",
   "mimetype": "text/x-python",
   "name": "python",
   "nbconvert_exporter": "python",
   "pygments_lexer": "ipython3",
   "version": "3.12.7"
  }
 },
 "nbformat": 4,
 "nbformat_minor": 5
}
