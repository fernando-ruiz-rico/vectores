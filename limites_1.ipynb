{
 "cells": [
  {
   "cell_type": "markdown",
   "id": "9d937549-a789-40ad-96a8-12490ed1acab",
   "metadata": {},
   "source": [
    "# Introducción al concepto de límite con el ejemplo de la diapositiva\n",
    "\n",
    "$$\n",
    "f(x) = \\frac{x^2 - 1}{x - 1}\n",
    "$$"
   ]
  },
  {
   "cell_type": "code",
   "execution_count": null,
   "id": "fe4b1690-93f9-4f9c-8424-535abf95b65d",
   "metadata": {},
   "outputs": [],
   "source": [
    "$$\n",
    "f(x) ="
   ]
  }
 ],
 "metadata": {
  "kernelspec": {
   "display_name": "Python 3 (ipykernel)",
   "language": "python",
   "name": "python3"
  },
  "language_info": {
   "codemirror_mode": {
    "name": "ipython",
    "version": 3
   },
   "file_extension": ".py",
   "mimetype": "text/x-python",
   "name": "python",
   "nbconvert_exporter": "python",
   "pygments_lexer": "ipython3",
   "version": "3.12.7"
  }
 },
 "nbformat": 4,
 "nbformat_minor": 5
}
