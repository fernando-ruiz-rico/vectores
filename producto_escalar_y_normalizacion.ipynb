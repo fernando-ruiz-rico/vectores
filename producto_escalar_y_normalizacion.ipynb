{
 "cells": [
  {
   "cell_type": "markdown",
   "id": "10174e78-1ea3-4035-819f-83780fceb991",
   "metadata": {},
   "source": [
    "# Producto escalar de vectores\n",
    "\n",
    "## ¿Qué es el producto interno (o escalar)?\n",
    "El **producto interno** (o producto escalar) entre dos vectores es una operación matemática que combina la magnitud y dirección de ambos vectores. Nos da como resultado un número (escalar) que refleja cuánto se parecen o \"alinean\" dos vectores entre sí.\n",
    "\n",
    "El producto interno es muy útil en aprendizaje automático para medir la similitud entre vectores. Si dos vectores apuntan en la misma dirección, su producto interno será mayor. Si están en direcciones opuestas, el producto interno será menor o negativo.\n",
    "\n",
    "La fórmula para el producto escalar entre dos vectores $ a $ y $ b $ en dos dimensiones es:\n",
    "\n",
    "$$\n",
    "a \\cdot b = a_1 b_1 + a_2 b_2\n",
    "$$\n",
    "\n",
    "### Ejemplo\n",
    "Dado:\n",
    "\n",
    "- $ a = [3, 1] $\n",
    "- $ b = [2, 3] $\n",
    "\n",
    "Calculamos el producto escalar como:\n",
    "\n",
    "$$\n",
    "a \\cdot b = (3 \\cdot 2) + (1 \\cdot 3) = 6 + 3 = 9\n",
    "$$"
   ]
  },
  {
   "cell_type": "markdown",
   "id": "763bf040-a8a5-4c53-b69f-427c1c5e8fca",
   "metadata": {},
   "source": [
    "### Ejemplo 1: Aplicación para aprendizaje automático (similitud entre vectores)\n",
    "En aprendizaje automático (o machine learning), el producto escalar (o interno) es útil para medir la similitud entre dos vectores. Si los vectores representan, por ejemplo, características de dos documentos, un producto interno alto indica que los documentos son similares.\n",
    "\n",
    "Imaginemos que tenemos dos vectores de características:\n",
    "\n",
    "- $ a = [1, 2, 3] $\n",
    "- $ b = [4, 5, 6] $\n",
    "\n",
    "Podemos calcular su producto escalar para ver si son similares:"
   ]
  },
  {
   "cell_type": "code",
   "execution_count": 48,
   "id": "0575b242-0387-436d-a542-785573533217",
   "metadata": {},
   "outputs": [
    {
     "name": "stdout",
     "output_type": "stream",
     "text": [
      "La similitud entre a y b es: 32\n"
     ]
    }
   ],
   "source": [
    "import numpy as np\n",
    "a = np.array([1, 2, 3])\n",
    "b = np.array([4, 5, 6])\n",
    "similitud = np.dot(a, b)\n",
    "print(\"La similitud entre a y b es:\", similitud)"
   ]
  },
  {
   "cell_type": "markdown",
   "id": "d0529dca-4937-482f-b3ea-58d5d876e15b",
   "metadata": {},
   "source": [
    "### Ejemplo 2: Uso del producto escalar en modelos de recomendación\n",
    "En aprendizaje automático, el producto interno es útil para calcular la similitud entre vectores de usuario y vectores de productos en sistemas de recomendación. Si un vector representa los intereses de un usuario y otro vector representa las características de un producto, el producto interno nos indica cuánto podría interesarle el producto al usuario.\n",
    "\n",
    "Por ejemplo, si tenemos:\n",
    "\n",
    "- $ usuario = [1, 1, 3] $ (representando el interés del usuario en tres categorías, por ejemplo ropa, electrodomésticos, tecnología)\n",
    "- $ producto = [0, 2, 1] $ (representando la relación del producto con esas mismas categorías, por ejemplo, un lavavajillas que es electrodoméstico y tiene parte de tecnología)\n",
    "\n",
    "Calculamos el producto interno para determinar si el producto es adecuado para el usuario:"
   ]
  },
  {
   "cell_type": "code",
   "execution_count": 50,
   "id": "8d465771-adc1-472b-9a03-f67f65e5511f",
   "metadata": {},
   "outputs": [
    {
     "name": "stdout",
     "output_type": "stream",
     "text": [
      "La afinidad del usuario por el producto es: 5\n"
     ]
    }
   ],
   "source": [
    "usuario = np.array([1, 1, 3])\n",
    "producto = np.array([0, 2, 1])\n",
    "recomendacion = np.dot(usuario, producto)\n",
    "print(\"La afinidad del usuario por el producto es:\", recomendacion)"
   ]
  },
  {
   "cell_type": "markdown",
   "id": "02fa62f1-ffca-44fe-9ef9-3b2c998f85c5",
   "metadata": {},
   "source": [
    "### Ejemplo 3: Uso del producto escalar para calcular la similitud de dos casas en función de sus características\n",
    "\n",
    "Supongamos que estamos creando un modelo para predecir el precio de una casa comparándola con otras casas que puedan tener características similares. Para ello, necesitamos elegir primero las características de la casa, como:\n",
    "- Tamaño en metros cuadrados\n",
    "- Número de habitaciones\n",
    "- Antiguedad de la casa (en años)\n",
    "\n",
    "Podemos almacenar las características de dos casas en dos vectores. Esto nos permitirá calcula la similitud entre esas dos casas y poder predecir el precio de una basándonos en la otra. En este caso normalizaremos los vectores para evitar que los metros cuadrados de la casa (cuyo valor destaca sobre el resto) tengan mayor peso en las comparaciones."
   ]
  },
  {
   "cell_type": "code",
   "execution_count": 52,
   "id": "7413ecc1-39b2-4203-9b5b-c281c1d23c72",
   "metadata": {},
   "outputs": [
    {
     "name": "stdout",
     "output_type": "stream",
     "text": [
      "La similitud entre las dos casas es: 0.9898017340310221\n"
     ]
    }
   ],
   "source": [
    "import numpy as np  # Importa NumPy\n",
    "\n",
    "# Define características de las casas ([tamaño en m2, número de habitaciones, años de antigüedad])\n",
    "caracteristicas_casa1 = np.array([170, 4, 10])\n",
    "caracteristicas_casa2 = np.array([50, 3, 10])\n",
    "\n",
    "# Calcula la norma de cada vector de características\n",
    "norma_casa1 = np.linalg.norm(caracteristicas_casa1)\n",
    "norma_casa2 = np.linalg.norm(caracteristicas_casa2)\n",
    "\n",
    "# Normaliza cada vector de características\n",
    "caracteristicas_normalizadas_casa1 = caracteristicas_casa1 / norma_casa1\n",
    "caracteristicas_normalizadas_casa2 = caracteristicas_casa2 / norma_casa2\n",
    "\n",
    "# Calcula la similitud entre las características de las dos casas\n",
    "recomendacion = np.dot(caracteristicas_normalizadas_casa1, caracteristicas_normalizadas_casa2)\n",
    "\n",
    "print(\"La similitud entre las dos casas es:\", recomendacion)\n"
   ]
  },
  {
   "cell_type": "code",
   "execution_count": null,
   "id": "a35c9be0-61f9-4804-ab87-896757c37683",
   "metadata": {},
   "outputs": [],
   "source": []
  }
 ],
 "metadata": {
  "kernelspec": {
   "display_name": "Python 3 (ipykernel)",
   "language": "python",
   "name": "python3"
  },
  "language_info": {
   "codemirror_mode": {
    "name": "ipython",
    "version": 3
   },
   "file_extension": ".py",
   "mimetype": "text/x-python",
   "name": "python",
   "nbconvert_exporter": "python",
   "pygments_lexer": "ipython3",
   "version": "3.12.7"
  }
 },
 "nbformat": 4,
 "nbformat_minor": 5
}
