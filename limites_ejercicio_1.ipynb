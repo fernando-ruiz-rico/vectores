{
 "cells": [
  {
   "cell_type": "markdown",
   "id": "623de413",
   "metadata": {},
   "source": [
    "# Introducción al concepto de límite con el ejemplo de la diapositiva\n",
    "\n",
    "Un límite nos ayuda a entender el comportamiento de una función cuando una variable se acerca a un cierto valor, incluso si en ese valor específico la función no está definida.\n",
    "\n",
    "En este ejemplo, trabajaremos con la función:\n",
    "$$f(x) = \\frac{x^2 - 1}{x - 1}$$\n",
    "\n",
    "A primera vista, parece que podemos sustituir cualquier valor de $ x $ en esta función para calcular $ f(x) $. Sin embargo, hay un problema en $ x = 1 $:\n",
    "- Si sustituimos $ x = 1 $ en la función, el denominador se vuelve 0 ($ x - 1 = 0 $), lo cual resulta en una \"indeterminación\" porque no se puede dividir entre cero.\n",
    "\n",
    "### Objetivo\n",
    "Queremos saber qué valor toma $ f(x) $ cuando $ x $ se acerca mucho a 1, aunque no podamos evaluarla exactamente en $ x = 1 $. Para lograr esto, calcularemos el límite de $ f(x) $ cuando $ x \\to 1 $.\n",
    "\n",
    "---\n",
    "\n",
    "## Paso a paso para resolver el límite en Jupyter Notebook\n",
    "\n",
    "Vamos a desglosar este problema en varios pasos. Utilizaremos Python y la librería SymPy.\n",
    "\n",
    "---"
   ]
  },
  {
   "cell_type": "markdown",
   "id": "e57b238e",
   "metadata": {},
   "source": [
    "### Paso 1: Definición de la Función Original\n",
    "\n",
    "Primero, definimos la función $ f(x) = \\frac{x^2 - 1}{x - 1} $ en términos de la variable simbólica $ x $."
   ]
  },
  {
   "cell_type": "code",
   "execution_count": 133,
   "id": "cd95111d",
   "metadata": {},
   "outputs": [
    {
     "data": {
      "image/png": "[encoded data removed]",
      "text/latex": [
       "$\\displaystyle \\frac{x^{2} - 1}{x - 1}$"
      ],
      "text/plain": [
       " 2    \n",
       "x  - 1\n",
       "──────\n",
       "x - 1 "
      ]
     },
     "execution_count": 133,
     "metadata": {},
     "output_type": "execute_result"
    }
   ],
   "source": [
    "# Cargamos SymPy\n",
    "import sympy as sp\n",
    "\n",
    "# Definimos la variable simbólica\n",
    "x = sp.symbols('x')\n",
    "\n",
    "# Definimos la función f(x) = (x^2 - 1) / (x - 1)\n",
    "f_x = (x**2 - 1) / (x - 1)\n",
    "\n",
    "# Mostramos la función original\n",
    "f_x"
   ]
  },
  {
   "cell_type": "markdown",
   "id": "aa28106f",
   "metadata": {},
   "source": [
    "### Paso 2: Verificar el problema en $ x = 1 $\n",
    "\n",
    "Intentamos evaluar la función en $ x = 1 $ para ver por qué no podemos simplemente sustituir este valor."
   ]
  },
  {
   "cell_type": "code",
   "execution_count": 135,
   "id": "08125635",
   "metadata": {},
   "outputs": [
    {
     "name": "stdout",
     "output_type": "stream",
     "text": [
      "Resultado: nan\n"
     ]
    }
   ],
   "source": [
    "# Intentamos evaluar en x = 1 (esto nos dará un error de división)\n",
    "resultado = f_x.subs(x, 1)\n",
    "print(\"Resultado:\", resultado)"
   ]
  },
  {
   "cell_type": "markdown",
   "id": "d3f77c39",
   "metadata": {},
   "source": [
    "---\n",
    "\n",
    "### Paso 3: Factorización del numerador\n",
    "\n",
    "Para simplificar la expresión, factorizamos el numerador. Observamos que $ x^2 - 1 $ es una diferencia de cuadrados, lo que significa que se puede reescribir como el producto de dos factores:\n",
    "$$x^2 - 1 = (x - 1)(x + 1)$$\n",
    "\n",
    "Ahora, sustituimos la factorización en la función original. Esto convierte nuestra función en:\n",
    "$$f(x) = \\frac{(x - 1)(x + 1)}{x - 1}$$"
   ]
  },
  {
   "cell_type": "code",
   "execution_count": 137,
   "id": "53617cdf",
   "metadata": {},
   "outputs": [
    {
     "data": {
      "image/png": "[encoded data removed]",
      "text/latex": [
       "$\\displaystyle \\left(x - 1\\right) \\left(x + 1\\right)$"
      ],
      "text/plain": [
       "(x - 1)⋅(x + 1)"
      ]
     },
     "execution_count": 137,
     "metadata": {},
     "output_type": "execute_result"
    }
   ],
   "source": [
    "# Factorizamos el numerador\n",
    "numerador = x**2 - 1\n",
    "factorizado = sp.factor(numerador)\n",
    "factorizado"
   ]
  },
  {
   "cell_type": "markdown",
   "id": "5a1a4bba",
   "metadata": {},
   "source": [
    "---\n",
    "\n",
    "### Paso 4: Simplificación de la Función\n",
    "\n",
    "Como el término $ x - 1 $ aparece en el numerador y en el denominador, podemos quitarlo (siempre y cuando $ x \\neq 1 $), obteniendo así una fracción simplificada."
   ]
  },
  {
   "cell_type": "code",
   "execution_count": 139,
   "id": "681df756",
   "metadata": {},
   "outputs": [
    {
     "data": {
      "image/png": "[encoded data removed]",
      "text/latex": [
       "$\\displaystyle x + 1$"
      ],
      "text/plain": [
       "x + 1"
      ]
     },
     "execution_count": 139,
     "metadata": {},
     "output_type": "execute_result"
    }
   ],
   "source": [
    "# Simplificamos la función cancelando (x - 1)\n",
    "f_x_simplificado = sp.simplify(f_x)\n",
    "f_x_simplificado"
   ]
  },
  {
   "cell_type": "markdown",
   "id": "0bc62430",
   "metadata": {},
   "source": [
    "---\n",
    "\n",
    "### Paso 5: Cálculo del Límite\n",
    "\n",
    "Con la función simplificada, podemos calcular el límite cuando $ x \\to 1 $. Esto nos dará el valor hacia el cual se acerca $ f(x) $ cuando $ x $ se aproxima a 1."
   ]
  },
  {
   "cell_type": "code",
   "execution_count": 141,
   "id": "f271a213",
   "metadata": {},
   "outputs": [
    {
     "data": {
      "image/png": "[encoded data removed]",
      "text/latex": [
       "$\\displaystyle 2$"
      ],
      "text/plain": [
       "2"
      ]
     },
     "execution_count": 141,
     "metadata": {},
     "output_type": "execute_result"
    }
   ],
   "source": [
    "# Calculamos el límite cuando x tiende a 1\n",
    "limite = sp.limit(f_x, x, 1)\n",
    "limite"
   ]
  },
  {
   "cell_type": "markdown",
   "id": "77a9865f",
   "metadata": {},
   "source": [
    "---\n",
    "\n",
    "### Resultado\n",
    "\n",
    "Al simplificar la función $ f(x) $ mediante la factorización del numerador, podemos reducir la fracción quitando $ x - 1 $ en el denominador, resolviendo así el problema de la división por cero y de esa forma poder calcular el límite. El resultado muestra que:\n",
    "$$\\lim_{x \\to 1} \\frac{x^2 - 1}{x - 1} = 2$$\n",
    "\n",
    "Esto significa que, aunque $ f(x) $ no está definida en $ x = 1 $, cuando $ x $ se aproxima a 1 ($ x \\to 1 $), el valor de la función $ f(x) $ se aproxima a 2.\n"
   ]
  },
  {
   "cell_type": "code",
   "execution_count": 143,
   "id": "9def3fa3",
   "metadata": {},
   "outputs": [
    {
     "name": "stdout",
     "output_type": "stream",
     "text": [
      "El resultado del límite es: 2\n"
     ]
    }
   ],
   "source": [
    "# Mostramos el resultado final en texto\n",
    "print(f\"El resultado del límite es: {limite}\")"
   ]
  },
  {
   "cell_type": "markdown",
   "id": "8701f3f2-4680-41b2-9c3e-e80346209a9d",
   "metadata": {},
   "source": [
    "---\n",
    "\n",
    "### En resumen...\n",
    "1. **Función original:** $ f(x) = \\frac{x^2 - 1}{x - 1} $\n",
    "2. **Problema:** No se puede evaluar en $ x = 1 $ porque el denominador se vuelve cero.\n",
    "3. **Solución:** Factorizamos $ x^2 - 1 $ como $ (x + 1)(x - 1) $.\n",
    "4. **Simplificación:** Podemos eliminar $ (x - 1) $, dejando $ f(x) = x + 1 $.\n",
    "5. **Resultado del límite:** $ \\lim_{x \\to 1} f(x) = 2 $"
   ]
  },
  {
   "cell_type": "code",
   "execution_count": null,
   "id": "102d655b-1353-4f98-9cae-6b28d1f5d216",
   "metadata": {},
   "outputs": [],
   "source": []
  }
 ],
 "metadata": {
  "kernelspec": {
   "display_name": "Python 3 (ipykernel)",
   "language": "python",
   "name": "python3"
  },
  "language_info": {
   "codemirror_mode": {
    "name": "ipython",
    "version": 3
   },
   "file_extension": ".py",
   "mimetype": "text/x-python",
   "name": "python",
   "nbconvert_exporter": "python",
   "pygments_lexer": "ipython3",
   "version": "3.12.7"
  }
 },
 "nbformat": 4,
 "nbformat_minor": 5
}
