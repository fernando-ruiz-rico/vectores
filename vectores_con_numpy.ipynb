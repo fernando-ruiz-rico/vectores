{
 "cells": [
  {
   "cell_type": "markdown",
   "metadata": {},
   "source": [
    "### ¿Qué es un vector?\n",
    "\n",
    "Un **vector** es una lista ordenada de números. Puedes imaginarlo como una flecha que apunta en una dirección específica en el espacio. Por ejemplo, el vector `[2, 6, 3]` representa una flecha en el espacio tridimensional que apunta a la posición `(2, 6, 3)`.\n",
    "\n",
    "En `numpy`, podemos crear vectores usando la función `np.array`. En el siguiente ejemplo `np` es la abreviatura que se usa para `numpy`:"
   ]
  },
  {
   "cell_type": "code",
   "execution_count": 87,
   "metadata": {},
   "outputs": [
    {
     "name": "stdout",
     "output_type": "stream",
     "text": [
      "[2 6 3]\n"
     ]
    }
   ],
   "source": [
    "import numpy as np  # Importamos numpy y lo llamamos \"np\"\n",
    "\n",
    "# Creamos un vector llamado \"vector_a\"\n",
    "vector_a = np.array([2, 6, 3])\n",
    "print(vector_a)  # Esto mostrará [2 6 3]"
   ]
  },
  {
   "cell_type": "markdown",
   "metadata": {},
   "source": [
    "### Magnitud de un vector (Norma del vector)\n",
    "\n",
    "La **magnitud** o **norma** de un vector es una medida de su \"longitud\" o \"tamaño\". Si te imaginas el vector como una flecha en el espacio, la magnitud es la longitud de esa flecha.\n",
    "\n",
    "Para calcularla con `numpy`, usamos `np.linalg.norm()`. En el siguiente ejemplo, `np.linalg.norm()` calcula la distancia del punto `(2, 6, 3)` hasta el origen `(0, 0, 0)`. Este cálculo se realiza internamente usando el Teorema de Pitágoras:"
   ]
  },
  {
   "cell_type": "code",
   "execution_count": 89,
   "metadata": {},
   "outputs": [
    {
     "name": "stdout",
     "output_type": "stream",
     "text": [
      "7.0\n"
     ]
    }
   ],
   "source": [
    "import numpy as np  # Importamos numpy\n",
    "\n",
    "# Creamos un vector llamado \"vector_a\"\n",
    "vector_a = np.array([2, 6, 3])\n",
    "\n",
    "# Calcular la magnitud de \"vector_a\"\n",
    "magnitud = np.linalg.norm(vector_a)\n",
    "print(magnitud)  # Imprime la longitud del vector"
   ]
  },
  {
   "cell_type": "markdown",
   "metadata": {},
   "source": [
    "### Producto escalar\n",
    "\n",
    "El **producto escalar** (o producto interno) es una operación matemática entre dos vectores que nos dice cuánto se parecen o están \"alineados\" en la misma dirección. Se calcula multiplicando los elementos correspondientes y sumándolos. En `numpy`, usamos `np.dot()`.\n",
    "\n",
    "En el siguiente ejemplo se multiplican los números de cada vector entre sí (`2*1 + 6*4 + 3*5`) y se suman los resultados. El valor final es una medida de cuánto apuntan los vectores en la misma dirección:"
   ]
  },
  {
   "cell_type": "code",
   "execution_count": 91,
   "metadata": {},
   "outputs": [
    {
     "name": "stdout",
     "output_type": "stream",
     "text": [
      "41\n"
     ]
    }
   ],
   "source": [
    "import numpy as np  # Importamos numpy\n",
    "\n",
    "# Creamos un vector llamado \"vector_a\"\n",
    "vector_a = np.array([2, 6, 3])\n",
    "\n",
    "# Creamos otro vector llamado \"vector_b\"\n",
    "vector_b = np.array([1, 4, 5])\n",
    "\n",
    "# Producto escalar entre \"vector_a\" y \"vector_b\"\n",
    "producto_escalar = np.dot(vector_a, vector_b)\n",
    "print(producto_escalar)  # Muestra el resultado de multiplicar los vectores"
   ]
  },
  {
   "cell_type": "markdown",
   "metadata": {},
   "source": [
    "### Ángulo entre dos vectores\n",
    "\n",
    "Para encontrar el **ángulo** entre dos vectores, usamos el producto escalar y las magnitudes (o longitudes) de los vectores. El coseno del ángulo se puede obtener dividiendo el producto escalar entre el producto de las magnitudes:"
   ]
  },
  {
   "cell_type": "code",
   "execution_count": 93,
   "metadata": {},
   "outputs": [
    {
     "name": "stdout",
     "output_type": "stream",
     "text": [
      "0.9037767640636811\n"
     ]
    }
   ],
   "source": [
    "import numpy as np  # Importamos numpy\n",
    "\n",
    "# Creamos dos vectores\n",
    "vector_a = np.array([2, 6, 3])\n",
    "vector_b = np.array([1, 4, 5])\n",
    "\n",
    "# Calculamos las magnitudes de los vectores\n",
    "magnitud_a = np.linalg.norm(vector_a)\n",
    "magnitud_b = np.linalg.norm(vector_b)\n",
    "\n",
    "# Producto escalar entre \"vector_a\" y \"vector_b\"\n",
    "producto_escalar = np.dot(vector_a, vector_b)\n",
    "\n",
    "# Calculamos el coseno del ángulo\n",
    "coseno_angulo = producto_escalar / (magnitud_a * magnitud_b)\n",
    "print(coseno_angulo)"
   ]
  },
  {
   "cell_type": "markdown",
   "metadata": {},
   "source": [
    "Nota: El resultado que se obtiene es el coseno del ángulo entre los vectores. Si queremos obtener el ángulo en sí (en radianes), podemos usar `np.arccos(coseno_angulo)`."
   ]
  },
  {
   "cell_type": "markdown",
   "metadata": {},
   "source": [
    "### Condición Ortogonal\n",
    "\n",
    "Dos vectores son **ortogonales** (o perpendiculares) si el ángulo entre ellos es de 90 grados. En este caso, el producto escalar entre los dos vectores es igual a cero. Podemos comprobarlo así:"
   ]
  },
  {
   "cell_type": "code",
   "execution_count": 96,
   "metadata": {},
   "outputs": [
    {
     "name": "stdout",
     "output_type": "stream",
     "text": [
      "Los vectores no son ortogonales\n"
     ]
    }
   ],
   "source": [
    "import numpy as np  # Importamos numpy\n",
    "\n",
    "# Creamos dos vectores\n",
    "vector_a = np.array([2, 6, 3])\n",
    "vector_b = np.array([1, 4, 5])\n",
    "\n",
    "# Verificamos si los vectores son ortogonales\n",
    "if np.dot(vector_a, vector_b) == 0:\n",
    "    print(\"Los vectores son ortogonales\")  # Esto se mostrará si el producto interno es 0\n",
    "else:\n",
    "    print(\"Los vectores no son ortogonales\")"
   ]
  },
  {
   "cell_type": "markdown",
   "metadata": {},
   "source": [
    "### Similaridad del Coseno\n",
    "\n",
    "La **similaridad del coseno** es una medida que podemos utilizar para evaluar la similitud entre dos vectores. Esta medida toma un valor entre -1 y 1:\n",
    "- **1** significa que los vectores son idénticos en dirección.\n",
    "- **-1** significa que los vectores son opuestos.\n",
    "- **0** significa que los vectores son ortogonales.\n",
    "\n",
    "Un valor cercano a 1 indica que los vectores apuntan en la misma dirección, mientras que un valor cercano a -1 indica que apuntan en direcciones opuestas:"
   ]
  },
  {
   "cell_type": "code",
   "execution_count": 98,
   "metadata": {},
   "outputs": [
    {
     "name": "stdout",
     "output_type": "stream",
     "text": [
      "0.9037767640636811\n"
     ]
    }
   ],
   "source": [
    "import numpy as np  # Importamos numpy\"\n",
    "\n",
    "# Creamos dos vectores\n",
    "vector_a = np.array([2, 6, 3])\n",
    "vector_b = np.array([1, 4, 5])\n",
    "\n",
    "# Calculamos las magnitudes de los vectores\n",
    "magnitud_a = np.linalg.norm(vector_a)\n",
    "magnitud_b = np.linalg.norm(vector_b)\n",
    "\n",
    "# Calculamos la similaridad del coseno\n",
    "similaridad_coseno = producto_escalar / (magnitud_a * magnitud_b)\n",
    "print(similaridad_coseno)"
   ]
  }
 ],
 "metadata": {
  "kernelspec": {
   "display_name": "Python 3 (ipykernel)",
   "language": "python",
   "name": "python3"
  },
  "language_info": {
   "codemirror_mode": {
    "name": "ipython",
    "version": 3
   },
   "file_extension": ".py",
   "mimetype": "text/x-python",
   "name": "python",
   "nbconvert_exporter": "python",
   "pygments_lexer": "ipython3",
   "version": "3.12.7"
  }
 },
 "nbformat": 4,
 "nbformat_minor": 4
}
