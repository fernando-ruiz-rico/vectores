{
 "cells": [
  {
   "cell_type": "markdown",
   "id": "0d834b43",
   "metadata": {},
   "source": [
    "# Límites con otra diferencia de cuadrados\n",
    "\n",
    "En este ejercicio, trabajaremos con la función:\n",
    "$$f(x) = \\frac{x^2 - 4}{x - 2}$$\n",
    "\n",
    "Esta función también presenta una indeterminación en $x = 2$ debido a la división por cero en el denominador.\n",
    "\n",
    "Queremos calcular el límite de $f(x)$ cuando $x \\to 2$ y entender cómo simplificar la expresión para resolver el problema."
   ]
  },
  {
   "cell_type": "markdown",
   "id": "2751f1c9",
   "metadata": {},
   "source": [
    "### Paso 1: Definición de la Función\n",
    "\n",
    "Definimos $f(x) = \\frac{x^2 - 4}{x - 2}$ utilizando SymPy."
   ]
  },
  {
   "cell_type": "code",
   "execution_count": 5,
   "id": "29842657",
   "metadata": {},
   "outputs": [
    {
     "data": {
      "text/latex": [
       "$\\displaystyle \\frac{x^{2} - 4}{x - 2}$"
      ],
      "text/plain": [
       "(x**2 - 4)/(x - 2)"
      ]
     },
     "execution_count": 5,
     "metadata": {},
     "output_type": "execute_result"
    }
   ],
   "source": [
    "import sympy as sp\n",
    "\n",
    "# Definimos la variable simbólica\n",
    "x = sp.symbols('x')\n",
    "\n",
    "# Definimos la función f(x)\n",
    "f_x = (x**2 - 4) / (x - 2)\n",
    "\n",
    "# Mostramos la función original\n",
    "f_x"
   ]
  },
  {
   "cell_type": "markdown",
   "id": "9f0f8477",
   "metadata": {},
   "source": [
    "### Paso 2: Intentamos evaluar en $x = 2$\n",
    "Evaluamos $f(x)$ en $x = 2$ para comprobar la indeterminación."
   ]
  },
  {
   "cell_type": "code",
   "execution_count": 7,
   "id": "3f4bbd53",
   "metadata": {},
   "outputs": [
    {
     "name": "stdout",
     "output_type": "stream",
     "text": [
      "Resultado: nan\n"
     ]
    }
   ],
   "source": [
    "# Evaluamos la función en x = 2\n",
    "resultado = f_x.subs(x, 2)\n",
    "print(\"Resultado:\", resultado)"
   ]
  },
  {
   "cell_type": "markdown",
   "id": "1809aea1",
   "metadata": {},
   "source": [
    "### Paso 3: Factorización del numerador\n",
    "Factorizamos $x^2 - 4$ como una diferencia de cuadrados:\n",
    "$$x^2 - 4 = (x - 2)(x + 2)$$\n",
    "\n",
    "Así, la función completa se convierte en:\n",
    "$$f(x) = \\frac{(x - 2)(x + 2)}{x - 2}$$"
   ]
  },
  {
   "cell_type": "code",
   "execution_count": 25,
   "id": "5c640b0a",
   "metadata": {},
   "outputs": [
    {
     "data": {
      "text/latex": [
       "$\\displaystyle \\left(x - 2\\right) \\left(x + 2\\right)$"
      ],
      "text/plain": [
       "(x - 2)*(x + 2)"
      ]
     },
     "execution_count": 25,
     "metadata": {},
     "output_type": "execute_result"
    }
   ],
   "source": [
    "# Factorizamos el numerador\n",
    "numerador = x**2 - 4\n",
    "factorizado = sp.factor(numerador)\n",
    "factorizado"
   ]
  },
  {
   "cell_type": "markdown",
   "id": "06b92e1e",
   "metadata": {},
   "source": [
    "### Paso 4: Simplificación de la Función\n",
    "\n",
    "Como el término $ x - 2 $ aparece en el numerador y en el denominador, podemos quitarlo (siempre y cuando $ x \\neq 2 $), obteniendo así una fracción simplificada."
   ]
  },
  {
   "cell_type": "code",
   "execution_count": 11,
   "id": "a17dc01f",
   "metadata": {},
   "outputs": [
    {
     "data": {
      "text/latex": [
       "$\\displaystyle x + 2$"
      ],
      "text/plain": [
       "x + 2"
      ]
     },
     "execution_count": 11,
     "metadata": {},
     "output_type": "execute_result"
    }
   ],
   "source": [
    "# Simplificamos la función\n",
    "f_x_simplificado = sp.simplify(f_x)\n",
    "f_x_simplificado"
   ]
  },
  {
   "cell_type": "markdown",
   "id": "1593db83",
   "metadata": {},
   "source": [
    "### Paso 5: Cálculo del Límite\n",
    "Calculamos el límite de $f(x)$ cuando $x \\to 2$ usando la función simplificada."
   ]
  },
  {
   "cell_type": "code",
   "execution_count": 13,
   "id": "762c73ca",
   "metadata": {},
   "outputs": [
    {
     "data": {
      "text/latex": [
       "$\\displaystyle 4$"
      ],
      "text/plain": [
       "4"
      ]
     },
     "execution_count": 13,
     "metadata": {},
     "output_type": "execute_result"
    }
   ],
   "source": [
    "# Calculamos el límite cuando x tiende a 2\n",
    "limite = sp.limit(f_x, x, 2)\n",
    "limite"
   ]
  },
  {
   "cell_type": "markdown",
   "id": "a3e581b8",
   "metadata": {},
   "source": [
    "### Resultado\n",
    "El resultado del límite es el valor al cual se aproxima la función cuando $x \\to 2$."
   ]
  },
  {
   "cell_type": "code",
   "execution_count": 15,
   "id": "29bbffec",
   "metadata": {},
   "outputs": [
    {
     "name": "stdout",
     "output_type": "stream",
     "text": [
      "El resultado del límite es: 4\n"
     ]
    }
   ],
   "source": [
    "# Mostramos el resultado del límite\n",
    "print(f\"El resultado del límite es: {limite}\")"
   ]
  }
 ],
 "metadata": {
  "kernelspec": {
   "display_name": "Python 3 (ipykernel)",
   "language": "python",
   "name": "python3"
  },
  "language_info": {
   "codemirror_mode": {
    "name": "ipython",
    "version": 3
   },
   "file_extension": ".py",
   "mimetype": "text/x-python",
   "name": "python",
   "nbconvert_exporter": "python",
   "pygments_lexer": "ipython3",
   "version": "3.12.7"
  }
 },
 "nbformat": 4,
 "nbformat_minor": 5
}
