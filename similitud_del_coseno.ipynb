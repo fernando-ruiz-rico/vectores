{
 "cells": [
  {
   "cell_type": "markdown",
   "id": "842aff18-9fb0-48cf-a3e3-ac23bde6860a",
   "metadata": {},
   "source": [
    "# Similitud de Coseno\n",
    "\n",
    "## ¿Qué es la similitud de coseno?\n",
    "La **similitud de coseno** es una medida de la similitud entre dos vectores. Mide el coseno del ángulo entre los vectores y nos da un valor entre -1 y 1.\n",
    "\n",
    "- Si la similitud de coseno es 1, significa que los vectores son paralelos y apuntan en la **misma dirección** (muy similares).\n",
    "- Si la similitud de coseno es 0, significa que los vectores son **ortogonales** (no tienen ninguna similitud).\n",
    "- Si la similitud de coseno es -1, significa que los vectores son paralelos pero apuntan en **direcciones opuestas** (completamente opuestos).\n",
    "\n",
    "La fórmula para calcular la similitud de coseno entre dos vectores $ a $ y $ b $ es:\n",
    "\n",
    "$$\n",
    "\\cos(\\theta) = \\frac{a \\cdot b}{||a|| \\cdot ||b||}\n",
    "$$\n",
    "\n",
    "Donde:\n",
    "- $ a \\cdot b $ es el producto interno de los vectores $ a $ y $ b $.\n",
    "- $ ||a|| $ y $ ||b|| $ son las normas de los vectores $ a $ y $ b $, respectivamente.\n",
    "\n",
    "La similitud de coseno es muy útil en aprendizaje automático y procesamiento de texto para medir la similitud entre documentos o características."
   ]
  },
  {
   "cell_type": "markdown",
   "id": "8fbc5293-d5bd-4bde-8ad6-1af5c39ceb82",
   "metadata": {},
   "source": [
    "## Ejemplo 1: Evaluación de las preferencias de un usuario al elegir una película, usando vectores\n",
    "\n",
    "Este ejemplo muestra cómo usar límites y vectores en sistemas de recomendación de películas. Representaremos las preferencias del usuario y las características de una película mediante vectores, calcularemos la similitud entre ambos usando la **similitud del coseno** y analizaremos cómo los límites ayudan a resolver indeterminaciones:\n",
    "\n",
    "$$\n",
    "\\text{Similitud}(u, p) = \\frac{\\vec{u} \\cdot \\vec{p}}{\\|\\vec{u}\\| \\|\\vec{p}\\|}\n",
    "$$\n",
    "\n",
    "#### ¿Qué son los pesos de los vectores?\n",
    "\n",
    "En sistemas de recomendación, los **pesos** de los vectores representan la importancia relativa de diferentes características. Por ejemplo:\n",
    "- Para un usuario, los pesos ($ \\vec{u} $) indican cuánto le gusta cada género cinematográfico (acción, comedia, drama, etc.).\n",
    "- Para una película, los pesos ($ \\vec{p} $) indican qué proporción de esos géneros están presentes en la película.\n",
    "\n",
    "**Ejemplo**:\n",
    "- Un usuario tiene los gustos $ \\vec{u} = [1, 0.5, 0.2] $, lo que significa que:\n",
    "  - Acción: 1 (le gusta mucho).\n",
    "  - Comedia: 0.5 (le gusta algo).\n",
    "  - Drama: 0.2 (le gusta poco).\n",
    "- Una película tiene $ \\vec{p} = [0.8, 0.6, 0.1] $, lo que significa que:\n",
    "  - Acción: 0.8 (es mayoritariamente de acción).\n",
    "  - Comedia: 0.6 (contiene algo de comedia).\n",
    "  - Drama: 0.1 (apenas tiene drama).\n",
    "\n",
    "Estos vectores son las representaciones numéricas que convierten las preferencias del usario y las características de una película en algo que un ordenador puede entender."
   ]
  },
  {
   "cell_type": "code",
   "execution_count": 23,
   "id": "0f1734bf-1103-4652-9938-d71c23655ed9",
   "metadata": {},
   "outputs": [
    {
     "name": "stdout",
     "output_type": "stream",
     "text": [
      "Similitud del coseno entre usuario y película: 0.9812111634618578\n"
     ]
    }
   ],
   "source": [
    "import numpy as np  # Importamos NumPy\n",
    "\n",
    "# Definimos los vectores de gustos del usuario y características de la película\n",
    "usuario = np.array([1, 0.5, 0.2])\n",
    "pelicula = np.array([0.8, 0.6, 0.1])\n",
    "\n",
    "# Calculamos la similitud del coseno\n",
    "similitud = np.dot(usuario, pelicula) / (np.linalg.norm(usuario) * np.linalg.norm(pelicula))\n",
    "\n",
    "# Mostramos el resultado\n",
    "print(\"Similitud del coseno entre usuario y película:\", similitud)"
   ]
  },
  {
   "cell_type": "markdown",
   "id": "e7c21f85-080b-4e78-b3fe-e0d69f01f8e7",
   "metadata": {},
   "source": [
    "## Ejemplo 2: Uso de la similitud del coseno en modelos de recomendación de productos\n",
    "En aprendizaje automático, la similitud del coseno se utiliza para calcular de manera más precisa la similitud entre vectores. En este caso vamos a utilizarla para sistemas de recomendación. Si un vector representa los intereses de un usuario y otro vector representa las características de un producto, la similitud del coseno nos indica cuánto podría interesarle un producto a un usuario con valores entre -1, 0, 1.\n",
    "\n",
    "Por ejemplo, si tenemos:\n",
    "\n",
    "- $ usuario = [1, 1, 3] $ : representando el interés del usuario en tres categorías, por ejemplo $[ropa:1, electrodomésticos:1, tecnología:1]$.\n",
    "- $ producto = [0, 2, 1] $ : representando la relación del producto con esas mismas categorías, por ejemplo, un lavavajillas que no tiene nada que ver con ropa (0), es electrodoméstico (2) y tiene parte de tecnología (1), es decir $[ropa:0, electrodomésticos:2, tecnología:1]$. \n",
    "\n",
    "Calculamos la similitud del producto para determinar si el producto puede resultar interesante para ese usuario:"
   ]
  },
  {
   "cell_type": "code",
   "execution_count": 5,
   "id": "3428faf8-1ff6-4057-bf5a-2f7606a1a9c3",
   "metadata": {},
   "outputs": [
    {
     "name": "stdout",
     "output_type": "stream",
     "text": [
      "La afinidad del usuario por el producto es: 0.674199862463242\n"
     ]
    }
   ],
   "source": [
    "import numpy as np  # Importa NumPy\n",
    "\n",
    "usuario = np.array([1, 1, 3])  # Vector de características del usuario\n",
    "producto = np.array([0, 2, 1])  # Vector de características del producto\n",
    "\n",
    "# Calcula el producto escalar entre usuario y producto\n",
    "producto_escalar = np.dot(usuario, producto)\n",
    "\n",
    "# Calcula la norma de cada vector\n",
    "norma_usuario = np.linalg.norm(usuario)\n",
    "norma_producto = np.linalg.norm(producto)\n",
    "\n",
    "# Calcula la similitud del coseno entre usuario y producto\n",
    "recomendacion = producto_escalar / (norma_usuario * norma_producto)\n",
    "\n",
    "print(\"La afinidad del usuario por el producto es:\", recomendacion)\n"
   ]
  },
  {
   "cell_type": "code",
   "execution_count": null,
   "id": "1fda1398-2adf-4fe6-90db-dfde63ad79f9",
   "metadata": {},
   "outputs": [],
   "source": []
  }
 ],
 "metadata": {
  "kernelspec": {
   "display_name": "Python 3 (ipykernel)",
   "language": "python",
   "name": "python3"
  },
  "language_info": {
   "codemirror_mode": {
    "name": "ipython",
    "version": 3
   },
   "file_extension": ".py",
   "mimetype": "text/x-python",
   "name": "python",
   "nbconvert_exporter": "python",
   "pygments_lexer": "ipython3",
   "version": "3.12.7"
  }
 },
 "nbformat": 4,
 "nbformat_minor": 5
}
