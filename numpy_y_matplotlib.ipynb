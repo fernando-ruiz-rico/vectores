{
 "cells": [
  {
   "cell_type": "markdown",
   "id": "75cfa434-72ae-4650-b14d-75157b4f6e40",
   "metadata": {},
   "source": [
    "# Documentos científicos sobre medicina"
   ]
  },
  {
   "cell_type": "code",
   "execution_count": 15,
   "id": "acb5efb8-b9d1-4f8d-a82f-55a781cf95db",
   "metadata": {},
   "outputs": [
    {
     "data": {
      "text/plain": [
       "[12, 2, 5, 8]"
      ]
     },
     "execution_count": 15,
     "metadata": {},
     "output_type": "execute_result"
    }
   ],
   "source": [
    "# aspirinas, coagulación, antiinflamatorio, medicación, antipirético, AINEs, receta, dolor, analgésico\n",
    "investigacion_sobre_aspirinas = [7, 2, 3, 2, 1, 1, 3, 5, 2]\n",
    "investigacion_sobre_aspirinas\n",
    "\n",
    "# vómito, acidez, reflujo, náuseas\n",
    "investigacion_sobre_vomito = [12, 2, 5, 8]\n",
    "investigacion_sobre_vomito\n"
   ]
  },
  {
   "cell_type": "code",
   "execution_count": 16,
   "id": "fa5df8a2-73ad-4f26-8db4-8612ef4791a6",
   "metadata": {},
   "outputs": [
    {
     "data": {
      "text/plain": [
       "[0, 0, 0, 1]"
      ]
     },
     "execution_count": 16,
     "metadata": {},
     "output_type": "execute_result"
    }
   ],
   "source": [
    "# dolor, malestar, sueño, analgésico, náuseas\n",
    "coincidencias_aspirinas = [0, 0, 0, 0, 0, 0, 0, 1, 1]\n",
    "coincidencias_aspirinas\n",
    "\n",
    "# dolor, malestar, sueño, analgésico, náuseas\n",
    "coincidencias_vomito = [0, 0, 0, 1]\n",
    "coincidencias_vomito"
   ]
  },
  {
   "cell_type": "markdown",
   "id": "aa3fd7ec-c35d-4a34-b074-40dcca7d2967",
   "metadata": {},
   "source": [
    "# Vectores con Numpy"
   ]
  },
  {
   "cell_type": "code",
   "execution_count": 18,
   "id": "dd365ad1-af8e-4368-bd2e-0693ba94eedc",
   "metadata": {},
   "outputs": [
    {
     "name": "stdout",
     "output_type": "stream",
     "text": [
      "[2 6 3]\n"
     ]
    }
   ],
   "source": [
    "import numpy as np  # Importamos numpy y lo llamamos \"np\"\n",
    "\n",
    "# Creamos un vector llamado \"vector_a\"\n",
    "vector_a = np.array([2, 6, 3])\n",
    "print(vector_a)  # Esto mostrará [2 6 3]"
   ]
  },
  {
   "cell_type": "code",
   "execution_count": 19,
   "id": "7de0c183-f41f-4023-8168-21d19d117941",
   "metadata": {},
   "outputs": [
    {
     "name": "stdout",
     "output_type": "stream",
     "text": [
      "7.0\n"
     ]
    }
   ],
   "source": [
    "# Calcular la magnitud de \"vector_a\"\n",
    "magnitud = np.linalg.norm(vector_a)\n",
    "print(magnitud)  # Imprime la longitud del vector [2, 6, 3]"
   ]
  },
  {
   "cell_type": "code",
   "execution_count": 20,
   "id": "7ab8ab2d-fffd-4fff-8aab-db0ca4e66683",
   "metadata": {},
   "outputs": [
    {
     "name": "stdout",
     "output_type": "stream",
     "text": [
      "41\n"
     ]
    }
   ],
   "source": [
    "# Crear otro vector llamado \"vector_b\"\n",
    "vector_b = np.array([1, 4, 5])\n",
    "\n",
    "# Producto interno entre \"vector_a\" y \"vector_b\"\n",
    "producto_interno = np.dot(vector_a, vector_b)\n",
    "print(producto_interno)  # Muestra el resultado de multiplicar los vectores"
   ]
  },
  {
   "cell_type": "code",
   "execution_count": 21,
   "id": "ed3c6e26-e9b9-48ca-aff6-4f8ca5c6a513",
   "metadata": {},
   "outputs": [
    {
     "name": "stdout",
     "output_type": "stream",
     "text": [
      "0.9037767640636811\n"
     ]
    }
   ],
   "source": [
    "# Calcular las magnitudes de los vectores\n",
    "magnitud_a = np.linalg.norm(vector_a)\n",
    "magnitud_b = np.linalg.norm(vector_b)\n",
    "\n",
    "# Calcular el coseno del ángulo\n",
    "coseno_angulo = producto_interno / (magnitud_a * magnitud_b)\n",
    "print(coseno_angulo)"
   ]
  },
  {
   "cell_type": "code",
   "execution_count": 22,
   "id": "23d8c273-e895-44c2-85ee-1f76e49d1767",
   "metadata": {},
   "outputs": [
    {
     "name": "stdout",
     "output_type": "stream",
     "text": [
      "Los vectores no son ortogonales\n"
     ]
    }
   ],
   "source": [
    "# Verificar si los vectores son ortogonales\n",
    "if np.dot(vector_a, vector_b) == 0:\n",
    "    print(\"Los vectores son ortogonales\")  # Esto se mostrará si el producto interno es 0\n",
    "else:\n",
    "    print(\"Los vectores no son ortogonales\")\n",
    "    "
   ]
  },
  {
   "cell_type": "code",
   "execution_count": 23,
   "id": "b5a3ed2c-2c6c-4718-92ea-84148420a9c2",
   "metadata": {},
   "outputs": [
    {
     "name": "stdout",
     "output_type": "stream",
     "text": [
      "0.9037767640636811\n"
     ]
    }
   ],
   "source": [
    "# Calcular la similaridad del coseno\n",
    "similaridad_coseno = producto_interno / (magnitud_a * magnitud_b)\n",
    "print(similaridad_coseno)\n"
   ]
  },
  {
   "cell_type": "code",
   "execution_count": null,
   "id": "89f59dae-1169-4b12-a167-bb577eba679e",
   "metadata": {},
   "outputs": [],
   "source": []
  }
 ],
 "metadata": {
  "kernelspec": {
   "display_name": "Python 3 (ipykernel)",
   "language": "python",
   "name": "python3"
  },
  "language_info": {
   "codemirror_mode": {
    "name": "ipython",
    "version": 3
   },
   "file_extension": ".py",
   "mimetype": "text/x-python",
   "name": "python",
   "nbconvert_exporter": "python",
   "pygments_lexer": "ipython3",
   "version": "3.12.7"
  }
 },
 "nbformat": 4,
 "nbformat_minor": 5
}
